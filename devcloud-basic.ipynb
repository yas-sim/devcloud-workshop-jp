{
 "cells": [
  {
   "cell_type": "markdown",
   "metadata": {},
   "source": [
    "# DevCloudの基本的な操作方法\n",
    "ここではDevCloudの基本的な操作方法を学びます\n",
    "- 開発ホスト上でのコマンド実行\n",
    "- DevCloudのエッジコンピューティングノードでのコマンド(ジョブ)実行\n",
    "- エッジコンピューティングノードを指定してジョブを実行する方法"
   ]
  },
  {
   "cell_type": "markdown",
   "metadata": {},
   "source": [
    "DevCloud for Edgeは３つのサーバーと１つのストレージで構成されています\n",
    "1. Development servers\n",
    "2. Edge computing node servers\n",
    "3. Job queueing servers\n",
    "4. 50GB of cloud storage\n",
    "\n",
    "Development serverは今このJupyter notebookを実行しているマシンです。Xeonサーバーです。  \n",
    "Edge computing nodeは様々なハードウエア構成のマシンで構成されています。ノードを指定してジョブを送信することでベンチマークなどの評価を行うことが可能です。\n",
    "\n",
    "<img src=https://devcloud.intel.com/edge/static/images/svg/Edge-howitworks_PN3.svg width=400, height=400></img>"
   ]
  },
  {
   "cell_type": "markdown",
   "metadata": {},
   "source": [
    "----\n",
    "## 1. Development workstation上でいくつかコマンドを実行してみる  \n",
    "Jupyter notebookのセル内で、`!`から始まる行はshellに渡されて実行されます。`pwd`, `ls`など通常のLinuxコマンドを実行できます。  \n",
    "ここで実行したコマンドはJupyter notebookを実行しているのと同じマシン (=開発ホスト、Xeonマシン)上で実行されます。  "
   ]
  },
  {
   "cell_type": "code",
   "execution_count": null,
   "metadata": {},
   "outputs": [],
   "source": [
    "!pwd\n",
    "!ls -l\n",
    "!echo Hello! I like OpenVINO"
   ]
  },
  {
   "cell_type": "markdown",
   "metadata": {},
   "source": [
    "上のセルで実行したコマンドは、開発ホスト(Xeon server)上で実行されたものです。  "
   ]
  },
  {
   "cell_type": "markdown",
   "metadata": {},
   "source": [
    "----\n",
    "## 2. Edge Computing Nodeに簡単なジョブを送って実行させてみる\n",
    "簡単なジョブスクリプトを作成し、Edge computing node上で実行する手順を学びます。\n",
    "先ほどと(ほぼ)同じ内容をDevCloudで実行してみましょう。  \n",
    "まずは実行したい内容のスクリプトファイルを作ります。  \n",
    "`%%writefile <filename>`で始まるセルは、その中身がそのままファイルに書き出されます (セルの中身と同じ内容のファイルを作ることができます)\n",
    "ジョブスクリプトの中身は通常のLinux shell scriptと同じです。"
   ]
  },
  {
   "cell_type": "code",
   "execution_count": null,
   "metadata": {},
   "outputs": [],
   "source": [
    "%%writefile job.sh\n",
    "echo -n 'start dir='\n",
    "pwd\n",
    "cd devcloud-workshop-jp\n",
    "pwd\n",
    "ls -l\n",
    "echo Hello! I like OpenVINO\n"
   ]
  },
  {
   "cell_type": "markdown",
   "metadata": {},
   "source": [
    "作られたファイルの中身を確認してみましょう"
   ]
  },
  {
   "cell_type": "code",
   "execution_count": null,
   "metadata": {},
   "outputs": [],
   "source": [
    "!cat job.sh"
   ]
  },
  {
   "cell_type": "markdown",
   "metadata": {},
   "source": [
    "ジョブスクリプトができたので`qsub`コマンドでジョブをキューサーバーに送信します。送信されたキューはEdge compute nodeのうち、いづれかの空いているノードに送られ、処理されます。  \n",
    "`qsub`コマンドはいくつかのオプションを受け付けますが、ここでは何も指定せずにジョブを送信します。  \n",
    "実行すると`job ID`が表示されます。`job ID`の最初の数字が`job #`です。"
   ]
  },
  {
   "cell_type": "markdown",
   "metadata": {},
   "source": [
    "|Option|Description|\n",
    "|:--|:--|\n",
    "|`-l` resource_name[=val][,resource_val[=val]]|使用するコンピュートノードを制限(指定)|\n",
    "|`-o` file|STDOUTを書き出すファイル|\n",
    "|`-e` file|STDERRを書き出すファイル|\n",
    "|`-N` job_name|ジョブネーム|\n",
    "|`-d` working_dir|作業ディレクトリを指定|\n",
    "|`-F` args_for_job|ジョブスクリプトへの引数|"
   ]
  },
  {
   "cell_type": "code",
   "execution_count": null,
   "metadata": {},
   "outputs": [],
   "source": [
    "!qsub job.sh"
   ]
  },
  {
   "cell_type": "markdown",
   "metadata": {},
   "source": [
    "実行中のジョブの状態を`qstat`コマンドで確認することができます。ジョブ送信時に`-N`オプションでジョブ名を指定できますが、省略した場合ジョブファイル名がそのままジョブ名になります。  \n",
    "ジョブが終了するまで(job.shが表示されなくなるまで)定期的にこのセルを実行して、ジョブの終了を待ちます。"
   ]
  },
  {
   "cell_type": "code",
   "execution_count": null,
   "metadata": {},
   "outputs": [],
   "source": [
    "!qstat"
   ]
  },
  {
   "cell_type": "markdown",
   "metadata": {},
   "source": [
    "ジョブの出力ファイルが作られていることを確認します (`job.sh.o<job#>`)"
   ]
  },
  {
   "cell_type": "code",
   "execution_count": null,
   "metadata": {},
   "outputs": [],
   "source": [
    "!ls -l job.sh.o*"
   ]
  },
  {
   "cell_type": "markdown",
   "metadata": {},
   "source": [
    "ジョブ出力ファイルの中身を確認します。下記のファイル名の中の、`job#` (数字)の部分は**ジョブを実行するごとに変わります**ので適宜修正する必要があります。`job#`は`qsub`コマンドでジョブを送信したときに表示されています。\n",
    "\n",
    "例 => `job.sh.o22345`"
   ]
  },
  {
   "cell_type": "code",
   "execution_count": null,
   "metadata": {},
   "outputs": [],
   "source": [
    "!cat job.sh.o<job#>"
   ]
  },
  {
   "cell_type": "markdown",
   "metadata": {},
   "source": [
    "ここまででDevCloudの一番基礎的な操作方法を学びました。基本的な流れは下記のとおりです。\n",
    "1. Edge computing nodeで実行したいジョブスクリプトを作る (Shell script)\n",
    "2. `qsub`コマンドでrequest queue serverにジョブスクリプトを送信\n",
    "3. `qstat`コマンドで実行状態を確認 (`Q`=`Queued`, `R`=`Running`, 'E'='Error')\n",
    "4. `<job_name>.o<job#>`ファイルに標準出力の内容がリダイレクトされているので実行結果を確認\n",
    "\n",
    "**<時間の余った方へ>** `job.sh`をいろいろ書き換えてどんなことができるか試してみよう"
   ]
  },
  {
   "cell_type": "markdown",
   "metadata": {},
   "source": [
    "### Jobデザイン時のポイント\n",
    "- Edge computing node側のjob開始時のディレクトリはホームディレクトリ （開発ホストのカレントディレクトリと同じではないので注意)\n",
    "- Edge computing node側からも開発ホスト側からも同じストレージが見える（ジョブに必要なファイルをいちいち転送したりする必要はない）\n",
    "- ストレージの内容は使用しているユーザーにしか見えない（インテルにも見えない）。機密情報も扱うことが可能。"
   ]
  },
  {
   "cell_type": "markdown",
   "metadata": {},
   "source": [
    "----\n",
    "## 3. エッジコンピュートノードを指定して、特定のノードにジョブを送信する"
   ]
  },
  {
   "cell_type": "markdown",
   "metadata": {},
   "source": [
    "### 利用可能なコンピュートノードの一覧を表示する\n",
    "まずは利用可能なコンピュートノード一覧を表示させてみましょう。`pbsnodes`コマンドを使用します\n",
    "<br><br>\n",
    "-ノード名\n",
    " - 各properties行がノード名のセットになります。\n",
    " - たとえば、下記のような行が表示された場合、`uniq`コマンドで重複行をカウントしているので、DevCloud上にこれと同じノードが13台存在しているということがわかります。  \n",
    ">`13      properties = idc002mx8,compnode,iei,tank-870,intel-core,i5-6500te,skylake,intel-hd-530,ram8gb,net1gbe,hddl-r,iei-mustang-v100-mx8`\n",
    " - また、このノードを指定するにはカンマで区切られたどの名前でも指定可能です。たとえば`idc002mx8`や`intel-core`、`intel-hd-530`のような名前を指定することが可能です。ノード名を指定してジョブを送信した場合、ジョブはそのノード名を持つ「いづれかの」ノードで実行されます。`intel-core`というノード名はいくつかのほかのノードでも共有されていますので、そのうちの「どれか」で実行されることになります。より狭い名前を指定することで特定のノードを指定することが可能になりますが、ノードがビジーの場合待たされる時間が長くなる可能性があります。\n"
   ]
  },
  {
   "cell_type": "code",
   "execution_count": null,
   "metadata": {},
   "outputs": [],
   "source": [
    "!pbsnodes | grep \"properties =\" | sort | uniq -c"
   ]
  },
  {
   "cell_type": "markdown",
   "metadata": {},
   "source": [
    "### ノードを指定してジョブを送る\n",
    "- `qsub`コマンド\n",
    " - `qsub`コマンドでジョブを送るときに、`-l`(limit)オプションをつけることでジョブを実行するノードを制限(=指定)することができます。`-l nodes=1:node_name`のように指定します。たとえば、`skylake`ノードで実行したい場合、`qsub -l nodes=1:skylake job.sh`のように指定します。\n",
    "ジョブスクリプトは先に作成した`job.sh`をそのまま利用します。\n",
    "- ログファイル名\n",
    " - ここではPythonを使って`qsub`コマンドから返される`job id` (`['27214.v-qsvr-1.devcloud-edge']`のような文字列のリスト)からログファイル名を自動生成させています\n",
    "- ジョブの終了検出\n",
    " - 前回は手動で`qstat`コマンドを何度も実行し、`job.sh`ジョブがなくなるのを確認しましたが、今回はPythonを使って自動で終了を検出するようにしています"
   ]
  },
  {
   "cell_type": "code",
   "execution_count": null,
   "metadata": {},
   "outputs": [],
   "source": [
    "# submit a job (edge nodeとしてi5-6500teを指定)\n",
    "job_id=!qsub -l nodes=1:i5-6500te job.sh\n",
    "\n",
    "# generate log file name from job_id\n",
    "job_num = job_id[0].split('.')[0]\n",
    "log_file='job.sh.o'+job_num\n",
    "err_file='job.sh.e'+job_num\n",
    "print('job_id={}, log_file={}'.format(job_id, log_file))\n",
    "\n",
    "import time\n",
    "def waitForJobCompletion(jobNumber):\n",
    "    print('Waiting for job completion...', end='')\n",
    "    running=True\n",
    "    while running:\n",
    "        time.sleep(1)\n",
    "        running=False\n",
    "        status_list=!qstat         # Check job status\n",
    "        for status in status_list:\n",
    "            if jobNumber in status:    # if job_num is found in the status list, the job is still running\n",
    "                running = True\n",
    "        print(status.split()[4], end='')\n",
    "    print('...Job {} completed'.format(job_num))    \n",
    "\n",
    "# wait for the job to complete\n",
    "waitForJobCompletion(job_num)"
   ]
  },
  {
   "cell_type": "markdown",
   "metadata": {},
   "source": [
    "### ジョブ出力ファイルの中身を確認する\n",
    "\n",
    "表示されたログ情報の中の`Resources:`の行にジョブ実行に使用されたノード名が表示されるので、指定したノードで実行されたかどうかを確認する。"
   ]
  },
  {
   "cell_type": "code",
   "execution_count": null,
   "metadata": {},
   "outputs": [],
   "source": [
    "# 1つ前のセルでlog_fileにログファイル名を入れている。環境変数にセットしてcatから使えるようにする\n",
    "import os\n",
    "os.environ['log_file']=log_file\n",
    "\n",
    "!cat $log_file"
   ]
  },
  {
   "cell_type": "markdown",
   "metadata": {},
   "source": [
    "----\n",
    "これでDevCloud for Edgeの基礎的な使い方を習得できました。  \n",
    "ここでは、下記のことを学びました。\n",
    "- DevCloudのDevelopment server上でコマンドを実行する方法\n",
    "- DevCloudのEdge Computing Nodeへのジョブの送信、ジョブステータスの確認、およびジョブ実行結果確認方法\n",
    "\n",
    "## Next => [OpenVINO BenchmarkをDevCloudで実行する方法](./benchmarking.ipynb)"
   ]
  }
 ],
 "metadata": {
  "kernelspec": {
   "display_name": "Python 3",
   "language": "python",
   "name": "python3"
  },
  "language_info": {
   "codemirror_mode": {
    "name": "ipython",
    "version": 3
   },
   "file_extension": ".py",
   "mimetype": "text/x-python",
   "name": "python",
   "nbconvert_exporter": "python",
   "pygments_lexer": "ipython3",
   "version": "3.6.5"
  }
 },
 "nbformat": 4,
 "nbformat_minor": 4
}
