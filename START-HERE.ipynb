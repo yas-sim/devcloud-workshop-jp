{
 "cells": [
  {
   "cell_type": "markdown",
   "metadata": {},
   "source": [
    "# Intel(R) DevCloud for Edge - Hands-on Workshop\n",
    "\n"
   ]
  },
  {
   "cell_type": "markdown",
   "metadata": {},
   "source": [
    "## Overview\n",
    "Intel DevCloud for the Edgeの仕組み、使い方を学ぶためのワークショップコンテンツ。\n",
    "\n",
    "## Description\n",
    "Intel DevCloudはインテルが提供するクラウドサービスです。Intel Distribution of OpenVINOがプレインストールされた様々な構成のシステムが用意されており、ユーザーは簡単にOpenVINOを使用したディープラーニング推論アプリケーションのテストを行うことが可能です。  \n",
    "[DevCloud for the Edge web page](https://devcloud.intel.com/edge/)\n",
    "\n",
    "このワークショップを通してユーザーは下記内容を習得可能です。\n",
    "0.  Jupyter notebookの基本的な使い方 - [jupyter-basic.ipynb](./jupyter-basic.ipynb)\n",
    "1.  DevCloudの基本的な使い方 - [devcloud-basic.ipynb](./devcloud-basic.ipynb)\n",
    "2.  OpenVINO BenchmarkをDevCloudで実行する方法 - [benchmarking.ipynb](./benchmarking.ipynb)\n",
    "3.  OpenVINOを使用するC++プロジェクトの作り方と、DevCloudでの実行方法 - [cpp-project.ipynb](./cpp-project.ipynb)\n",
    "\n",
    "4. <おまけ> DevCloudでのテストを自動化する - [automated-testing.ipynb](automated-testing.ipynb)\n",
    "\n",
    "## Demo\n",
    "\n",
    "## VS.\n",
    "\n",
    "## Requirement\n",
    "\n",
    "## Usage\n",
    "\n",
    "## Install\n",
    "\n",
    "## Contribution\n",
    "\n",
    "## Licence\n",
    "\n",
    "[Apache2](http://www.apache.org/licenses/LICENSE-2.0.txt)\n",
    "\n",
    "## Author\n",
    "\n",
    "[Yasunori Shimura](https://github.com/yassim-intel)\n"
   ]
  }
 ],
 "metadata": {
  "kernelspec": {
   "display_name": "Python 3",
   "language": "python",
   "name": "python3"
  },
  "language_info": {
   "codemirror_mode": {
    "name": "ipython",
    "version": 3
   },
   "file_extension": ".py",
   "mimetype": "text/x-python",
   "name": "python",
   "nbconvert_exporter": "python",
   "pygments_lexer": "ipython3",
   "version": "3.6.5"
  }
 },
 "nbformat": 4,
 "nbformat_minor": 4
}
