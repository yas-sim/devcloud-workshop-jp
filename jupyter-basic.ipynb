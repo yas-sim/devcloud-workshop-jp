{
 "cells": [
  {
   "cell_type": "markdown",
   "metadata": {},
   "source": [
    "# Jupyter notebook (JupyterLab)の使い方に慣れる"
   ]
  },
  {
   "cell_type": "markdown",
   "metadata": {},
   "source": [
    "## 1.Codeセルにいろいろ書いて実行してみる\n",
    "Codeセルの基本\n",
    "- Jupter内のCodeセルにはPythonのコードを記述できる\n",
    "- `CTRL+Enter`、または`Runボタン`を押すことでフォーカスしているセルを実行する\n",
    "- 実行したセルの出力はセルのすぐ下に表示される\n",
    "- セルは順不同に実行することも、繰り返し同じセルを実行することも可能\n",
    " - ただし、カーネル(Pythonカーネル)は実行した順番でしかコードを見ていないので、未実行のセルにある関数や変数を参照するとエラーになる\n",
    "- `!`を先頭につけるとシェルに渡されて実行される\n",
    "- `%`や`%%`で始まるマジックコマンドと呼ばれる特殊なコマンドもある"
   ]
  },
  {
   "cell_type": "markdown",
   "metadata": {},
   "source": [
    "### 1.1. 文字列を表示させてみる\n",
    "下のセルにフォーカスを置き(クリックするなどし)、**`CTRL+Enter`**を押して実行してみる。  \n",
    "セルのすぐ後に実行結果が表示されることを確認。"
   ]
  },
  {
   "cell_type": "code",
   "execution_count": null,
   "metadata": {},
   "outputs": [],
   "source": [
    "#これは'code'セルです\n",
    "print(\"Hello, world\")"
   ]
  },
  {
   "cell_type": "markdown",
   "metadata": {},
   "source": [
    "### 1.2. もう少し複雑なPythonコードを実行してみる\n",
    "下記の`for`ループを使ったセルを実行してみる。このように、普通のPythonの記述を行うことが可能。"
   ]
  },
  {
   "cell_type": "code",
   "execution_count": null,
   "metadata": {},
   "outputs": [],
   "source": [
    "for i in range(10):\n",
    "    print(i, end='')\n",
    "    if i % 2==0:\n",
    "        print(' Even')\n",
    "    else:\n",
    "        print(' Odd')\n",
    "\n",
    "a = [ '{} Odd'.format(i) if i % 2 else '{} Even'.format(i) for i in range(10)]\n",
    "print(a)"
   ]
  },
  {
   "cell_type": "markdown",
   "metadata": {},
   "source": [
    "### 1.3. Linuxコマンドを実行してみる\n",
    "`!`で始まるコマンドはシェルに渡され、実行される。"
   ]
  },
  {
   "cell_type": "code",
   "execution_count": null,
   "metadata": {},
   "outputs": [],
   "source": [
    "!ls -l"
   ]
  },
  {
   "cell_type": "markdown",
   "metadata": {},
   "source": [
    "### 1.4. LinuxコマンドとPythonの併用\n",
    "シェルコマンドの出力をPythonの変数で受け取ったり、Pythonからシェル環境変数に値をセットすることで情報の受け渡しが可能。"
   ]
  },
  {
   "cell_type": "code",
   "execution_count": null,
   "metadata": {},
   "outputs": [],
   "source": [
    "# シェルコマンドの結果をPythonで受け取る\n",
    "res=!ls -l\n",
    "for a in res:\n",
    "    print(a)\n",
    "\n",
    "# シェルに情報を渡す(環境変数に値をセットする)\n",
    "import os\n",
    "os.environ['TEST']='hello'\n",
    "!echo \"\\$TEST=${TEST}\""
   ]
  },
  {
   "cell_type": "markdown",
   "metadata": {},
   "source": [
    "----\n",
    "ここまででJupyter notebookの簡単な使い方を学びました。  \n",
    "つづけて、DevCloudの機能をJupyterから利用する方法について学びましょう。  \n",
    "## Next => [DevCloudの基本的な使い方](./devcloud-basic.ipynb)"
   ]
  }
 ],
 "metadata": {
  "kernelspec": {
   "display_name": "Python 3",
   "language": "python",
   "name": "python3"
  },
  "language_info": {
   "codemirror_mode": {
    "name": "ipython",
    "version": 3
   },
   "file_extension": ".py",
   "mimetype": "text/x-python",
   "name": "python",
   "nbconvert_exporter": "python",
   "pygments_lexer": "ipython3",
   "version": "3.6.5"
  }
 },
 "nbformat": 4,
 "nbformat_minor": 4
}
