{
 "cells": [
  {
   "cell_type": "markdown",
   "metadata": {},
   "source": [
    "# <おまけ(でも重要)> 面倒な組み合わせテストを自動化する"
   ]
  },
  {
   "cell_type": "markdown",
   "metadata": {},
   "source": [
    "DevCloudでテストを行う際、様々な条件を試すためにパラメーターを変更しながら何度も同じようなテストを行いたくなる場面が多々あります。  \n",
    "このようなときに手動でパラメーターを変更しながら繰り返しテストを行うと手間がかかるだけでなく、条件漏れなどが発生し効率がよくありません。  \n",
    "そこで、Pythonスクリプトを使用して単純作業を自動化する手法の一例を紹介します。"
   ]
  },
  {
   "cell_type": "markdown",
   "metadata": {},
   "source": [
    "ここでは例としてOpenVINO付属の`benchmark_app`を使い、`googlenet-v1`と`squeezenet1.1`のモデルを各種条件で実行する手順をご紹介します"
   ]
  },
  {
   "cell_type": "markdown",
   "metadata": {},
   "source": [
    "## 1. 必要なファイルを準備する\n",
    "`benchmark_app`をOpenVINOインストールディレクトリよりコピーします。また、`Model downloader`と`Model converter`を使用し、IR形式の`googlenet-v1`と`squeezenet1.1`モデルをダウンロードしてきます。"
   ]
  },
  {
   "cell_type": "code",
   "execution_count": null,
   "metadata": {},
   "outputs": [],
   "source": [
    "!cp -r $INTEL_OPENVINO_DIR/deployment_tools/tools/benchmark_tool .\n",
    "!python3 $INTEL_OPENVINO_DIR/deployment_tools/tools/model_downloader/downloader.py --name squeezenet1.1,googlenet-v1\n",
    "!python3 $INTEL_OPENVINO_DIR/deployment_tools/tools/model_downloader/converter.py  --name squeezenet1.1,googlenet-v1 --precisions FP16"
   ]
  },
  {
   "cell_type": "markdown",
   "metadata": {},
   "source": [
    "----\n",
    "ここからはPythonコードとなります\n",
    "\n",
    "## 2. 自動化のためのクラス、関数を定義する\n",
    "ここでは自動でテストパラメーターの更新およびパラメーター文字列を生成するためのクラスと、ジョブ実行を簡素化するヘルパー関数を定義しています。  \n",
    "これらのクラス、関数を活用することでテストスクリプトを簡単に記述できるようになります。\n",
    "次のセルを実行することで自動テストクラスが登録されます（登録されるだけなので何の出力も出ません）\n",
    "- `autoParam class` : 渡されたパラメーターリストから、パラメーターの更新(`update()`)、パラメーター文字列の生成(`get()`)を行う\n",
    "- `waitForJobCompletion(jobNum)`: 指定のジョブが終了するのを待つ。待っている間ステータスを表示する。\n",
    "- `runjob(nodeName, jobFile, params)` : 指定のジョブファイルを指定のノードで実行する。パラメーターとしてparamsを渡す\n",
    "- `printLineOfInterest(logFile, matchString)` : ログファイルから、指定した文字列を含む行だけ表示する"
   ]
  },
  {
   "cell_type": "code",
   "execution_count": null,
   "metadata": {},
   "outputs": [],
   "source": [
    "# Automated test library\n",
    "# Intel Corporation\n",
    "# Yasunori Shimura\n",
    "\n",
    "#           0      1       2           3      4    5\n",
    "# val:   prefix, type, initial,      start, end, step\n",
    "# enum:  prefix, type, initial_idx, item1, item2, item3,...\n",
    "#\n",
    "# e.g. parameter_list = [ [ '-nireq', 'val', 0, 0, 5, 1 ], [ '-flag', 'enum', 0, 'true', 'false', 'none'], [ '-precision', 'val', 0.5, 0.3, 0.8, 0.1 ] ]\n",
    "\n",
    "# usage example:\n",
    "# a=autoParam(parameter_list)\n",
    "# print(a.get())\n",
    "# a.update()\n",
    "\n",
    "class autoParam:\n",
    "    def __init__(self, param_list):\n",
    "        self.param_list = param_list\n",
    "\n",
    "    def update(self):\n",
    "        exit_flag=False\n",
    "        for param in self.param_list:\n",
    "            if param[1]=='val':\n",
    "                param[2]+=param[5]\n",
    "                if param[2]>param[4]:\n",
    "                    param[2]=param[3]\n",
    "                else:\n",
    "                    exit_flag=True\n",
    "            elif param[1]=='enum':\n",
    "                param[2]+=1\n",
    "                if param[2]>=len(param)-3:\n",
    "                    param[2]=0\n",
    "                else:\n",
    "                    exit_flag=True\n",
    "            if exit_flag:\n",
    "                return False\n",
    "        return True                 # reached to end of the update loop (==Performed all parameter combination)\n",
    "\n",
    "    def get(self):\n",
    "        ret=''\n",
    "        for param in self.param_list:\n",
    "            if param[1]=='val':\n",
    "                tmp=' {} {}'.format(param[0], param[2])\n",
    "            elif param[1]=='enum':\n",
    "                tmp=' {} {}'.format(param[0], param[param[2]+3])\n",
    "            ret+=tmp\n",
    "        return ret\n",
    "\n",
    "# -----------------------------\n",
    "\n",
    "import time\n",
    "def waitForJobCompletion(jobNumber):\n",
    "    print('Waiting for job completion...', end='')\n",
    "    running=True\n",
    "    while running:\n",
    "        time.sleep(1)\n",
    "        running=False\n",
    "        status_list=!qstat           # Check job status\n",
    "        for status in status_list:\n",
    "            if jobNumber in status:  # if job_num is found in the status list, the job is still running\n",
    "                running = True\n",
    "        print(status.split()[4], end='')\n",
    "    print('...Job {} completed'.format(jobNumber))    \n",
    "\n",
    "import subprocess\n",
    "def runJob(node_name, jobFile, params):\n",
    "    # submit a job\n",
    "    cmd='qsub -l {} {} -F \"{}\"'.format(node_name, jobFile, params)\n",
    "    print(cmd)\n",
    "    job_id=subprocess.check_output(cmd, shell=True).decode().strip()\n",
    "    job_num = job_id.split('.')[0]\n",
    "    print('job_id=', job_id)\n",
    "\n",
    "    # wait for the job to complete\n",
    "    waitForJobCompletion(job_num)\n",
    "    return job_num\n",
    "\n",
    "def printLineOfInterest(logFile, matchString):\n",
    "    for l in [ line.strip() for line in open(logFile).readlines() ]:\n",
    "        if matchString in l:\n",
    "            print(l)   "
   ]
  },
  {
   "cell_type": "markdown",
   "metadata": {},
   "source": [
    "## 3. ジョブスクリプトファイルを生成する\n",
    "実際に送信するジョブスクリプトファイルを`%%writefile`マジックコマンドを使用して生成します。  \n",
    "`$*`を使用して渡されたパラメーター文字列を受け取れるようにするのがポイントです。"
   ]
  },
  {
   "cell_type": "code",
   "execution_count": null,
   "metadata": {},
   "outputs": [],
   "source": [
    "%%writefile job.sh\n",
    "root=~/devcloud-workshop-jp\n",
    "cd $root\n",
    "python3 benchmark_tool/benchmark_app.py $*\n"
   ]
  },
  {
   "cell_type": "markdown",
   "metadata": {},
   "source": [
    "## 4. autoParamクラスの使い方を学ぶ\n",
    "autoParamのコンストラクタに次のようなリストを渡すと、半自動的にテストオプション文字列を生成させることが可能となります。\n",
    "- `autoParam.update()` : パラメータを更新する。パラメーターは並んでる順番に先のものから更新される。パラメーターの値が終値に到達した場合、その次のパラメーターの値が更新される（数字の桁上がりのように）。最後のパラメーターに到達すると`False`を、それ以外の場合は`True`を返します。\n",
    "- `autoParam.get()` : 現在のパラメーター値を使ってパラメーター文字列を生成する。"
   ]
  },
  {
   "cell_type": "markdown",
   "metadata": {},
   "source": [
    "### パラメーターリストの書式\n",
    "リストの書式は下記のようになります。パラメータータイプとしては`val`か`enum`が指定可能です。  \n",
    "`val`の場合、`start`から`end`まで`step`単位で数値を増加させます。実数も使用可能ですが、精度には注意してください。  \n",
    "`enum`の場合、並んでいる`item`を順にパラメーターとして使用します。とびとびの数値を使う場合にも`enum`を使用することができます。  \n",
    "どちらのタイプでも、初期値の指定が可能です。これにより、中断したテストの途中から再開させるような使い方も可能になります。  \n",
    "~~~\n",
    "val:   [ option_flag_string , 'val',  initial_val, start, end, step ]\n",
    "enum:  [ option_flag_string , 'enum', initial_idx, item1, item2, item3,... ]\n",
    "~~~"
   ]
  },
  {
   "cell_type": "markdown",
   "metadata": {},
   "source": [
    "次のセルを実行して実際の動作を確認してください。"
   ]
  },
  {
   "cell_type": "code",
   "execution_count": null,
   "metadata": {},
   "outputs": [],
   "source": [
    "param_list = [ [ '-niter', 'enum', 0, '10', '100' ],\n",
    "               [ '-nireq', 'val',  1, 1, 4, 1 ],\n",
    "               [ '-m',     'enum', 0, 'public/squeezenet1.1/FP16/squeezenet1.1.xml', 'public/googlenet-v1/FP16/googlenet-v1.xml' ]\n",
    "             ]\n",
    "\n",
    "param=autoParam(param_list)\n",
    "status=False\n",
    "while status==False:\n",
    "    param_str = param.get()\n",
    "    print(param_str)\n",
    "    status=param.update()"
   ]
  },
  {
   "cell_type": "markdown",
   "metadata": {},
   "source": [
    "## 5. 実際にテストを行ってみる\n",
    "では、実際にDevCloud上でのテストを自動化した例を見てみましょう。\n",
    "下記のように簡単なスクリプトで組み合わせテストを自動化できるようになるので大変便利です。"
   ]
  },
  {
   "cell_type": "markdown",
   "metadata": {},
   "source": [
    "ここでは`printLineOfinterest()`関数を使用して、必要最低限の情報だけ表示させることで表示を見やすくしています。"
   ]
  },
  {
   "cell_type": "markdown",
   "metadata": {},
   "source": [
    "実際に実行してテスト結果を確認してみてください。\n",
    "パラメーターの与え方でパフォーマンスに差が出ることも確認して下さい。"
   ]
  },
  {
   "cell_type": "code",
   "execution_count": null,
   "metadata": {},
   "outputs": [],
   "source": [
    "param_list = [\n",
    "    [ '-niter', 'enum', 0, '10', '100' ],\n",
    "    [ '-nireq', 'val',  1, 1, 4, 1 ],\n",
    "    [ '-m',     'enum', 0, 'public/squeezenet1.1/FP16/squeezenet1.1.xml', \n",
    "                           'public/googlenet-v1/FP16/googlenet-v1.xml' ]\n",
    "]\n",
    "\n",
    "param=autoParam(param_list)\n",
    "status=False\n",
    "while status==False:\n",
    "    param_str = param.get()\n",
    "    job_num = runJob('nodes=1:skylake', 'job.sh', param_str)\n",
    "\n",
    "    # Display the result from the log file\n",
    "    log_file = 'job.sh.o'+job_num\n",
    "    printLineOfInterest(log_file, 'Resources:')\n",
    "    printLineOfInterest(log_file, 'Count:')\n",
    "    printLineOfInterest(log_file, 'Duration:')\n",
    "    printLineOfInterest(log_file, 'Latency:')\n",
    "    printLineOfInterest(log_file, 'Throughput:')\n",
    "\n",
    "    status=param.update()     # update option parameter list for next iteration\n",
    "    print('-'*40)\n",
    "\n",
    "print('All test completed')"
   ]
  },
  {
   "cell_type": "markdown",
   "metadata": {},
   "source": [
    "## 6. クリーンナップ\n",
    "たくさんテストを行うとたくさんログファイルが生成されます。必要ないファイルは消してしまいましょう。"
   ]
  },
  {
   "cell_type": "code",
   "execution_count": null,
   "metadata": {},
   "outputs": [],
   "source": [
    "!rm job.sh.o*\n",
    "!rm job.sh.e*"
   ]
  },
  {
   "cell_type": "markdown",
   "metadata": {},
   "source": [
    "----\n",
    "ここまででDevCloud上でのテストの自動化手法の一例を学びました。  \n",
    "このようにテストの自動化を行うことで効率と再現性を上げ、間違いを減らすことが可能となります。  \n",
    "\n",
    "ディープラーニングを使用した推論プログラムは多くのパラメーターがパフォーマンスに関わり、それらの設定いかんでは数倍のパフォーマンス差が出ることもよくあります。  \n",
    "テストを自動化することで手動では試せないような多くの組み合わせを試し、最適設定を探り出すことが可能になります。\n",
    "\n",
    "今回の例を参考に、ご自身のベンチマークでもプラットフォーム特性に合わせた最適設定を探してみてください。"
   ]
  },
  {
   "cell_type": "markdown",
   "metadata": {},
   "source": [
    "<おわり>"
   ]
  }
 ],
 "metadata": {
  "kernelspec": {
   "display_name": "Python 3",
   "language": "python",
   "name": "python3"
  },
  "language_info": {
   "codemirror_mode": {
    "name": "ipython",
    "version": 3
   },
   "file_extension": ".py",
   "mimetype": "text/x-python",
   "name": "python",
   "nbconvert_exporter": "python",
   "pygments_lexer": "ipython3",
   "version": "3.6.5"
  }
 },
 "nbformat": 4,
 "nbformat_minor": 4
}
